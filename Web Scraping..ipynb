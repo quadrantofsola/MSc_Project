{
 "cells": [
  {
   "cell_type": "code",
   "execution_count": 2,
   "metadata": {
    "tags": []
   },
   "outputs": [],
   "source": [
    "import pandas as pd\n",
    "import requests\n",
    "from bs4 import BeautifulSoup\n",
    "import time"
   ]
  },
  {
   "cell_type": "markdown",
   "metadata": {},
   "source": [
    "#### Scrape header"
   ]
  },
  {
   "cell_type": "code",
   "execution_count": 3,
   "metadata": {
    "tags": []
   },
   "outputs": [
    {
     "data": {
      "text/plain": [
       "['Name',\n",
       " 'Age',\n",
       " 'OVA',\n",
       " 'POT',\n",
       " 'Team & Contract',\n",
       " 'Height',\n",
       " 'Weight',\n",
       " 'foot',\n",
       " 'BOV',\n",
       " 'BP',\n",
       " 'Growth',\n",
       " 'Value',\n",
       " 'Attacking',\n",
       " 'Crossing',\n",
       " 'Finishing',\n",
       " 'Heading Accuracy',\n",
       " 'Short Passing',\n",
       " 'Volleys',\n",
       " 'Skill',\n",
       " 'Dribbling',\n",
       " 'Curve',\n",
       " 'FK Accuracy',\n",
       " 'Long Passing',\n",
       " 'Ball Control',\n",
       " 'Movement',\n",
       " 'Acceleration',\n",
       " 'Sprint Speed',\n",
       " 'Agility',\n",
       " 'Reactions',\n",
       " 'Balance',\n",
       " 'Power',\n",
       " 'Shot Power',\n",
       " 'Jumping',\n",
       " 'Stamina',\n",
       " 'Long Shots',\n",
       " 'Mentality',\n",
       " 'Aggression',\n",
       " 'Interceptions',\n",
       " 'Positioning',\n",
       " 'Vision',\n",
       " 'Penalties',\n",
       " 'Composure',\n",
       " 'Defending',\n",
       " 'Marking',\n",
       " 'Standing Tackle',\n",
       " 'Sliding Tackle',\n",
       " 'Goalkeeping',\n",
       " 'GK Diving',\n",
       " 'GK Handling',\n",
       " 'GK Kicking',\n",
       " 'GK Positioning',\n",
       " 'GK Reflexes',\n",
       " 'Total',\n",
       " 'Base Stats',\n",
       " 'IR',\n",
       " 'PAC',\n",
       " 'SHO',\n",
       " 'PAS',\n",
       " 'DRI',\n",
       " 'DEF',\n",
       " 'PHY']"
      ]
     },
     "execution_count": 3,
     "metadata": {},
     "output_type": "execute_result"
    }
   ],
   "source": [
    "\n",
    "my_headers = {\n",
    "'User-Agent': 'Mozilla/5.0 (Windows NT 10.0; Win64; x64) AppleWebKit/537.36' + ' (KHTML, like Gecko) Chrome/61.0.3163.100Safari/537.36'\n",
    "}\n",
    "\n",
    "u = \"https://sofifa.com/?showCol%5B0%5D=ae&showCol%5B1%5D=hi&showCol%5B2%5D=wi&showCol%5B3%5D=pf&showCol%5B4%5D=oa&showCol%5B5%5D=pt&showCol%5B6%5D=bo&showCol%5B7%5D=bp&showCol%5B8%5D=gu&showCol%5B9%5D=vl&showCol%5B10%5D=cr&showCol%5B11%5D=fi&showCol%5B12%5D=he&showCol%5B13%5D=sh&showCol%5B14%5D=vo&showCol%5B15%5D=dr&showCol%5B16%5D=cu&showCol%5B17%5D=fr&showCol%5B18%5D=lo&showCol%5B19%5D=bl&showCol%5B20%5D=ac&showCol%5B21%5D=sp&showCol%5B22%5D=ag&showCol%5B23%5D=re&showCol%5B24%5D=ba&showCol%5B25%5D=so&showCol%5B26%5D=ju&showCol%5B27%5D=st&showCol%5B28%5D=&showCol%5B29%5D=ln&showCol%5B30%5D=ar&showCol%5B31%5D=in&showCol%5B32%5D=po&showCol%5B33%5D=vi&showCol%5B34%5D=pe&showCol%5B35%5D=cm&showCol%5B36%5D=ma&showCol%5B37%5D=sa&showCol%5B38%5D=sl&showCol%5B39%5D=tg&showCol%5B40%5D=gd&showCol%5B41%5D=gh&showCol%5B42%5D=gc&showCol%5B43%5D=gp&showCol%5B44%5D=gr&showCol%5B45%5D=ir&showCol%5B46%5D=pac&showCol%5B47%5D=sho&showCol%5B48%5D=pas&showCol%5B49%5D=dri&showCol%5B50%5D=def&showCol%5B51%5D=phy&showCol%5B52%5D=ta&showCol%5B53%5D=ts&showCol%5B54%5D=to&showCol%5B55%5D=tp&showCol%5B56%5D=te&showCol%5B57%5D=td&showCol%5B58%5D=tt&showCol%5B59%5D=bs&r=200061&set=true\"\n",
    "def Scrape_haed(test_url=u):\n",
    "    header = []\n",
    "    r =  requests.get(test_url, headers = my_headers)\n",
    "    html_resrponse = r.text\n",
    "    soup = BeautifulSoup(html_resrponse,\"html.parser\")\n",
    "    \n",
    "    #head for column name\n",
    "    table_h = soup.find(\"table\")\n",
    "    for i in table_h.find_all(\"th\"):\n",
    "        title = i.text\n",
    "        header.append(title)\n",
    "    return header[1:]\n",
    "Scrape_haed()"
   ]
  },
  {
   "cell_type": "markdown",
   "metadata": {},
   "source": [
    "##### Scrape body of data\n"
   ]
  },
  {
   "cell_type": "code",
   "execution_count": null,
   "metadata": {
    "tags": []
   },
   "outputs": [],
   "source": [
    "my_headers = {\n",
    "'User-Agent': 'Mozilla/5.0 (Windows NT 10.0; Win64; x64) AppleWebKit/537.36' + ' (KHTML, like Gecko) Chrome/61.0.3163.100Safari/537.36'\n",
    "}\n",
    "\n",
    "year = '19'\n",
    "u=\"https://sofifa.com/?showCol%5B0%5D=ae&showCol%5B1%5D=hi&showCol%5B2%5D=wi&showCol%5B3%5D=pf&showCol%5B4%5D=oa&showCol%5B5%5D=pt&showCol%5B6%5D=bo&showCol%5B7%5D=bp&showCol%5B8%5D=gu&showCol%5B9%5D=vl&showCol%5B10%5D=cr&showCol%5B11%5D=fi&showCol%5B12%5D=he&showCol%5B13%5D=sh&showCol%5B14%5D=vo&showCol%5B15%5D=dr&showCol%5B16%5D=cu&showCol%5B17%5D=fr&showCol%5B18%5D=lo&showCol%5B19%5D=bl&showCol%5B20%5D=ac&showCol%5B21%5D=sp&showCol%5B22%5D=ag&showCol%5B23%5D=re&showCol%5B24%5D=ba&showCol%5B25%5D=so&showCol%5B26%5D=ju&showCol%5B27%5D=st&showCol%5B28%5D=&showCol%5B29%5D=ln&showCol%5B30%5D=ar&showCol%5B31%5D=in&showCol%5B32%5D=po&showCol%5B33%5D=vi&showCol%5B34%5D=pe&showCol%5B35%5D=cm&showCol%5B36%5D=ma&showCol%5B37%5D=sa&showCol%5B38%5D=sl&showCol%5B39%5D=tg&showCol%5B40%5D=gd&showCol%5B41%5D=gh&showCol%5B42%5D=gc&showCol%5B43%5D=gp&showCol%5B44%5D=gr&showCol%5B45%5D=ir&showCol%5B46%5D=pac&showCol%5B47%5D=sho&showCol%5B48%5D=pas&showCol%5B49%5D=dri&showCol%5B50%5D=def&showCol%5B51%5D=phy&showCol%5B52%5D=ta&showCol%5B53%5D=ts&showCol%5B54%5D=to&showCol%5B55%5D=tp&showCol%5B56%5D=te&showCol%5B57%5D=td&showCol%5B58%5D=tt&showCol%5B59%5D=bs&r={}0061&set=true&offset=\".format(year)\n",
    "def Scrape(test_url=u):\n",
    "    data = []\n",
    "    for i in range(60,10200,60):\n",
    "        r =  requests.get(test_url+str(i), headers = my_headers)\n",
    "        html_resrponse = r.text\n",
    "        soup = BeautifulSoup(html_resrponse,\"html.parser\")\n",
    "\n",
    "\n",
    "        #cryptocurrency scrape\n",
    "        table = soup.find(\"tbody\")       \n",
    "        for row in table.find_all(\"tr\")[:]:\n",
    "            item_in_row = row.find_all(\"td\")\n",
    "            rows =  [table1.get_text().strip('\\n') for table1 in item_in_row]\n",
    "            data.append(rows[1:])\n",
    "\n",
    "        #Creating data fame\n",
    "        Dframe = pd.DataFrame(data[:],columns = Scrape_haed()) \n",
    "    \n",
    "    return Dframe\n",
    "df = Scrape()"
   ]
  },
  {
   "cell_type": "code",
   "execution_count": 23,
   "metadata": {
    "execution": {
     "iopub.execute_input": "2022-08-09T11:40:04.945356Z",
     "iopub.status.busy": "2022-08-09T11:40:04.945037Z",
     "iopub.status.idle": "2022-08-09T11:40:04.953261Z",
     "shell.execute_reply": "2022-08-09T11:40:04.952402Z",
     "shell.execute_reply.started": "2022-08-09T11:40:04.945327Z"
    }
   },
   "outputs": [],
   "source": [
    "df.shape"
   ]
  },
  {
   "cell_type": "code",
   "execution_count": 24,
   "metadata": {
    "execution": {
     "iopub.execute_input": "2022-08-09T11:40:04.955162Z",
     "iopub.status.busy": "2022-08-09T11:40:04.954826Z",
     "iopub.status.idle": "2022-08-09T11:40:05.009344Z",
     "shell.execute_reply": "2022-08-09T11:40:05.008081Z",
     "shell.execute_reply.started": "2022-08-09T11:40:04.955131Z"
    }
   },
   "outputs": [],
   "source": [
    "df"
   ]
  },
  {
   "cell_type": "code",
   "execution_count": 25,
   "metadata": {
    "execution": {
     "iopub.execute_input": "2022-08-09T11:40:05.011830Z",
     "iopub.status.busy": "2022-08-09T11:40:05.011522Z",
     "iopub.status.idle": "2022-08-09T11:40:05.185808Z",
     "shell.execute_reply": "2022-08-09T11:40:05.184684Z",
     "shell.execute_reply.started": "2022-08-09T11:40:05.011802Z"
    }
   },
   "outputs": [],
   "source": [
    "df.drop_duplicates()"
   ]
  },
  {
   "cell_type": "code",
   "execution_count": 26,
   "metadata": {
    "execution": {
     "iopub.execute_input": "2022-08-09T11:40:05.187637Z",
     "iopub.status.busy": "2022-08-09T11:40:05.187231Z",
     "iopub.status.idle": "2022-08-09T11:40:05.504144Z",
     "shell.execute_reply": "2022-08-09T11:40:05.502662Z",
     "shell.execute_reply.started": "2022-08-09T11:40:05.187605Z"
    }
   },
   "outputs": [],
   "source": [
    "df1 = df.drop_duplicates()\n",
    "df1.to_csv(\"players_2020.csv\",index=False)"
   ]
  },
  {
   "cell_type": "code",
   "execution_count": null,
   "metadata": {},
   "outputs": [],
   "source": []
  },
  {
   "cell_type": "code",
   "execution_count": 29,
   "metadata": {
    "execution": {
     "iopub.execute_input": "2022-08-08T23:34:40.108303Z",
     "iopub.status.busy": "2022-08-08T23:34:40.107854Z",
     "iopub.status.idle": "2022-08-08T23:34:49.549077Z",
     "shell.execute_reply": "2022-08-08T23:34:49.547761Z",
     "shell.execute_reply.started": "2022-08-08T23:34:40.108259Z"
    }
   },
   "outputs": [],
   "source": [
    "Scrape()[val].shape()"
   ]
  }
 ],
 "metadata": {
  "kernelspec": {
   "display_name": "Python 3 (ipykernel)",
   "language": "python",
   "name": "python3"
  },
  "language_info": {
   "codemirror_mode": {
    "name": "ipython",
    "version": 3
   },
   "file_extension": ".py",
   "mimetype": "text/x-python",
   "name": "python",
   "nbconvert_exporter": "python",
   "pygments_lexer": "ipython3",
   "version": "3.9.12"
  }
 },
 "nbformat": 4,
 "nbformat_minor": 4
}
